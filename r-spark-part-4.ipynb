{
 "cells": [
  {
   "cell_type": "markdown",
   "metadata": {},
   "source": [
    "## Where am I?"
   ]
  },
  {
   "cell_type": "code",
   "execution_count": null,
   "metadata": {
    "collapsed": true
   },
   "outputs": [],
   "source": [
    "getwd()"
   ]
  },
  {
   "cell_type": "markdown",
   "metadata": {},
   "source": [
    "## Clear global environment"
   ]
  },
  {
   "cell_type": "code",
   "execution_count": null,
   "metadata": {
    "collapsed": true
   },
   "outputs": [],
   "source": [
    "rm(list = ls())"
   ]
  },
  {
   "cell_type": "markdown",
   "metadata": {},
   "source": [
    "## Setup *sparklyr*"
   ]
  },
  {
   "cell_type": "code",
   "execution_count": null,
   "metadata": {},
   "outputs": [],
   "source": [
    "setupLibrary <- function(libraryName){\n",
    "  if (!require(libraryName, character.only = TRUE)){\n",
    "    install.packages(libraryName, dep = TRUE)\n",
    "    if (!require(libraryName, character.only = TRUE)){\n",
    "      print('Package not found')\n",
    "    }\n",
    "  } else {\n",
    "    print('Package is loaded')\n",
    "  }\n",
    "}\n",
    "\n",
    "setupLibrary('sparklyr')\n",
    "setupLibrary('dplyr')"
   ]
  },
  {
   "cell_type": "code",
   "execution_count": null,
   "metadata": {
    "collapsed": true
   },
   "outputs": [],
   "source": [
    "sc <- spark_connect(master = 'yarn', \n",
    "                    config = list('spark.driver.memory'='8G',\n",
    "                                  'spark.executor.instances'=4,\n",
    "                                  'spark.executor.cores'=8,\n",
    "                                  'spark.executor.memory'='8G',\n",
    "                                  'spark.executorEnv.PATH'=paste(Sys.getenv(\"PATH\"),\n",
    "                                       \"/software/anaconda3/5.0.1/bin/\",sep=\":\"))\n",
    "                    )"
   ]
  },
  {
   "cell_type": "markdown",
   "metadata": {},
   "source": [
    "### Writing custom R code using [`spark_apply()`](http://spark.rstudio.com/reference/spark_apply/)\n",
    "\n",
    "- `spark_apply()` applies an R function to a Spark object\n",
    "- The application can be done on the default partitions of the object in the cluster or via `group_by` argument\n",
    "- The R function must return another Spark DataFrame\n",
    "- The outcomes of the application will be aggregated into a single Spark DataFrame"
   ]
  },
  {
   "cell_type": "markdown",
   "metadata": {},
   "source": [
    "## Load data"
   ]
  },
  {
   "cell_type": "code",
   "execution_count": null,
   "metadata": {
    "collapsed": true
   },
   "outputs": [],
   "source": [
    "test_df <- sdf_len(sc, 10, repartition = 10) \n",
    "index_df <- test_df %>%\n",
    "  spark_apply(function(e) I(e))"
   ]
  },
  {
   "cell_type": "code",
   "execution_count": null,
   "metadata": {},
   "outputs": [],
   "source": [
    "sdf_num_partitions(test_df)\n",
    "sdf_num_partitions(index_df)"
   ]
  },
  {
   "cell_type": "code",
   "execution_count": null,
   "metadata": {},
   "outputs": [],
   "source": [
    "airline_tbl <- spark_read_csv(sc, name = 'airline_data',\n",
    "                              path = '/repository/airlines/data/',\n",
    "                              delimiter = ',')\n",
    "airline_tbl"
   ]
  },
  {
   "cell_type": "code",
   "execution_count": null,
   "metadata": {},
   "outputs": [],
   "source": [
    "sdf_num_partitions(airline_tbl)"
   ]
  },
  {
   "cell_type": "code",
   "execution_count": null,
   "metadata": {},
   "outputs": [],
   "source": [
    "carrier_tbl <- airline_tbl %>%\n",
    "  select(UniqueCarrier)\n",
    "\n",
    "carrier_tbl"
   ]
  },
  {
   "cell_type": "code",
   "execution_count": null,
   "metadata": {
    "collapsed": true
   },
   "outputs": [],
   "source": [
    "carrier_tbl <- airline_tbl %>%\n",
    "  select(UniqueCarrier)\n",
    "\n",
    "carrier_tbl %>% spark_apply(nrow, group_by = 'UniqueCarrier', columns = list(Unique_Carrier = 'character'))"
   ]
  },
  {
   "cell_type": "markdown",
   "metadata": {},
   "source": [
    "Count number of flights per carrier"
   ]
  },
  {
   "cell_type": "code",
   "execution_count": null,
   "metadata": {
    "collapsed": true
   },
   "outputs": [],
   "source": [
    "spark_disconnect(sc)"
   ]
  },
  {
   "cell_type": "markdown",
   "metadata": {
    "collapsed": true
   },
   "source": [
    "### Accessing Spark native API\n",
    "\n",
    "- We use R to sends commands to interact with the Spark cluster via its Java API for data manipulation and analytical tasks. **Think remote surgery!**\n",
    "\n",
    "- [Basic functionalites](https://spark.rstudio.com/reference/invoke/): `invoke`, `invoke_new`, `invoke_static`"
   ]
  },
  {
   "cell_type": "code",
   "execution_count": null,
   "metadata": {},
   "outputs": [],
   "source": [
    "setupLibrary('sparklyr')\n",
    "count_lines <- function(sc, file) {\n",
    "  spark_context(sc) %>% \n",
    "    invoke(\"textFile\", file, 1L) %>% \n",
    "    invoke(\"count\")\n",
    "}"
   ]
  },
  {
   "cell_type": "code",
   "execution_count": null,
   "metadata": {
    "collapsed": true
   },
   "outputs": [],
   "source": [
    "sc <- spark_connect(master = 'yarn', \n",
    "                    config = list('spark.driver.memory'='8G',\n",
    "                                  'spark.executor.instances'=4,\n",
    "                                  'spark.executor.cores'=8,\n",
    "                                  'spark.executor.memory'='8G')\n",
    "                    )"
   ]
  },
  {
   "cell_type": "code",
   "execution_count": null,
   "metadata": {},
   "outputs": [],
   "source": [
    "count_lines(sc, '/repository/airlines/data/')"
   ]
  },
  {
   "cell_type": "code",
   "execution_count": null,
   "metadata": {},
   "outputs": [],
   "source": [
    "billionBigInteger <- invoke_new(sc, \"java.math.BigInteger\", \"1000000000\")\n",
    "billionBigInteger"
   ]
  },
  {
   "cell_type": "code",
   "execution_count": null,
   "metadata": {
    "collapsed": true
   },
   "outputs": [],
   "source": [
    "top_movies <- avg_ratings %>%\n",
    "  inner_join(info_tlb, by = 'movieId') %>%\n",
    "  select(title, count, avg_rating) %>%\n",
    "  collectd"
   ]
  },
  {
   "cell_type": "code",
   "execution_count": null,
   "metadata": {
    "collapsed": true,
    "scrolled": true
   },
   "outputs": [],
   "source": [
    "top_movies"
   ]
  },
  {
   "cell_type": "code",
   "execution_count": null,
   "metadata": {},
   "outputs": [],
   "source": [
    "billion <- invoke(billionBigInteger, \"longValue\")\n",
    "billion"
   ]
  },
  {
   "cell_type": "code",
   "execution_count": null,
   "metadata": {},
   "outputs": [],
   "source": [
    "sc %>% \n",
    "  invoke_static(\"java.lang.Math\", \"hypot\", 10, 20) "
   ]
  },
  {
   "cell_type": "code",
   "execution_count": null,
   "metadata": {},
   "outputs": [],
   "source": [
    "sc %>% \n",
    "  invoke_static(\"java.lang.Math\", \"sqrt\", 4) "
   ]
  },
  {
   "cell_type": "code",
   "execution_count": null,
   "metadata": {
    "collapsed": true
   },
   "outputs": [],
   "source": [
    "spark_disconnect(sc)"
   ]
  },
  {
   "cell_type": "code",
   "execution_count": null,
   "metadata": {
    "collapsed": true
   },
   "outputs": [],
   "source": []
  }
 ],
 "metadata": {
  "kernelspec": {
   "display_name": "R 3.4.2",
   "language": "R",
   "name": "ir342"
  },
  "language_info": {
   "codemirror_mode": "r",
   "file_extension": ".r",
   "mimetype": "text/x-r-source",
   "name": "R",
   "pygments_lexer": "r",
   "version": "3.4.2"
  }
 },
 "nbformat": 4,
 "nbformat_minor": 2
}
