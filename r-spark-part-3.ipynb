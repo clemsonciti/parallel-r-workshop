{
 "cells": [
  {
   "cell_type": "code",
   "execution_count": null,
   "metadata": {},
   "outputs": [],
   "source": [
    "getwd()\n",
    "rm(list = ls())"
   ]
  },
  {
   "cell_type": "markdown",
   "metadata": {},
   "source": [
    "## Setup libraries"
   ]
  },
  {
   "cell_type": "code",
   "execution_count": null,
   "metadata": {},
   "outputs": [],
   "source": [
    "setupLibrary <- function(libraryName){\n",
    "  if (!require(libraryName, character.only = TRUE)){\n",
    "    install.packages(libraryName, dep = TRUE)\n",
    "    if (!require(libraryName, character.only = TRUE)){\n",
    "      print('Package not found')\n",
    "    }\n",
    "  } else {\n",
    "    print('Package is loaded')\n",
    "  }\n",
    "}\n",
    "\n",
    "setupLibrary('sparklyr')\n",
    "setupLibrary('dplyr')\n",
    "setupLibrary('ggplot2')"
   ]
  },
  {
   "cell_type": "code",
   "execution_count": null,
   "metadata": {
    "collapsed": true
   },
   "outputs": [],
   "source": [
    "sc <- spark_connect(master = 'yarn', \n",
    "                    config = list('spark.driver.memory'='8G',\n",
    "                                  'spark.executor.instances'=4,\n",
    "                                  'spark.executor.cores'=8,\n",
    "                                  'spark.executor.memory'='8G')\n",
    "                    )"
   ]
  },
  {
   "cell_type": "markdown",
   "metadata": {},
   "source": [
    "## Airline Traffic Delay\n",
    "\n"
   ]
  },
  {
   "cell_type": "code",
   "execution_count": null,
   "metadata": {},
   "outputs": [],
   "source": [
    "airline_tbl <- spark_read_csv(sc, name = 'airline_data',\n",
    "                              path = '/repository/airlines/data/',\n",
    "                              delimiter = ',')\n",
    "\n",
    "airline_tbl"
   ]
  },
  {
   "cell_type": "code",
   "execution_count": null,
   "metadata": {},
   "outputs": [],
   "source": [
    "carrier_tbl <- spark_read_csv(sc, name = 'carrier_data',\n",
    "                               path = '/repository/airlines/metadata/carriers.csv',\n",
    "                               delimiter = ',')\n",
    "carrier_tbl"
   ]
  },
  {
   "cell_type": "markdown",
   "metadata": {},
   "source": [
    "## Machine Learning/Statistical Functions available on Big Data through Spark\n",
    "\n",
    "- [ml_kmeans](https://spark.rstudio.com/reference/ml_kmeans.html)\n",
    "- [ml_linear_regression](https://spark.rstudio.com/reference/ml_linear_regression/)\n",
    "- [ml_logistic_regression](https://spark.rstudio.com/reference/ml_logistic_regression.html)\n",
    "- [ml_survival_regression](https://spark.rstudio.com/reference/ml_aft_survival_regression.html)\n",
    "- [ml_generalized_linear_regression](https://spark.rstudio.com/reference/ml_generalized_linear_regression.html)\n",
    "- [ml_decision_tree](https://spark.rstudio.com/reference/ml_decision_tree.html)\n",
    "- [ml_random_forest](https://spark.rstudio.com/reference/ml_random_forest.html)\n",
    "- [ml_pca](https://spark.rstudio.com/reference/ft_pca.html)\n",
    "- [ml_naive_bayes](https://spark.rstudio.com/reference/ml_naive_bayes.html)\n",
    "- [ml_multilayer_perceptron](https://spark.rstudio.com/reference/ml_multilayer_perceptron_classifier.html)\n",
    "- [ml_lda](https://spark.rstudio.com/reference/ml_lda.html)\n",
    "- [ml_one_vs_rest](https://spark.rstudio.com/reference/ml_one_vs_rest.html)"
   ]
  },
  {
   "cell_type": "markdown",
   "metadata": {},
   "source": [
    "**Example: Do planes with a delayed departure fly with a faster average speed to make up for the delay?**\n",
    "\n",
    "We start with a simple regression analysis for average speed and departure delay"
   ]
  },
  {
   "cell_type": "code",
   "execution_count": null,
   "metadata": {},
   "outputs": [],
   "source": [
    "# Filter records and create target variable 'gain'\n",
    "speed_data <- airline_tbl %>%\n",
    "  mutate(Dep_delay = as.numeric(DepDelay)) %>%\n",
    "  mutate(Dep_delay = ifelse(Dep_delay < 0, 0, Dep_delay)) %>%\n",
    "  mutate(Flight_Distance = as.numeric(Distance)) %>%\n",
    "  mutate(Air_time = as.numeric(AirTime)) %>%\n",
    "  filter(!is.na(Dep_delay) & !is.na(Flight_Distance) & !is.na(Air_time)) %>%\n",
    "  filter(Dep_delay > 15 & Dep_delay < 240) %>%\n",
    "  mutate(Avg_speed = Flight_Distance / Air_time) %>%\n",
    "  select(Dep_delay, Avg_speed)\n",
    "\n",
    "speed_data"
   ]
  },
  {
   "cell_type": "code",
   "execution_count": null,
   "metadata": {},
   "outputs": [],
   "source": [
    "sdf_dim(speed_data)"
   ]
  },
  {
   "cell_type": "markdown",
   "metadata": {},
   "source": [
    "Running a simple linear regression: [ml_linear_regression](http://spark.rstudio.com/reference/ml_linear_regression/)"
   ]
  },
  {
   "cell_type": "code",
   "execution_count": null,
   "metadata": {},
   "outputs": [],
   "source": [
    "speed_model <- speed_data %>%\n",
    "  ml_linear_regression(Dep_delay ~ Avg_speed, max_iter = 100)"
   ]
  },
  {
   "cell_type": "code",
   "execution_count": null,
   "metadata": {},
   "outputs": [],
   "source": [
    "summary(speed_model)"
   ]
  },
  {
   "cell_type": "markdown",
   "metadata": {},
   "source": [
    "** Example: Predict time gained in flight by airline carriers (From [Nathan Stephens' repository](https://gist.github.com/nwstephens/9d5bc92412b4eb0288662a4da4f62c6c)) **"
   ]
  },
  {
   "cell_type": "code",
   "execution_count": null,
   "metadata": {},
   "outputs": [],
   "source": [
    "# Filter records and create target variable 'gain'\n",
    "model_data <- airline_tbl %>%\n",
    "  mutate(Arr_delay = as.numeric(ArrDelay)) %>%\n",
    "  mutate(Dep_delay = as.numeric(DepDelay)) %>%\n",
    "  mutate(Flight_Distance = as.numeric(Distance)) %>%\n",
    "  filter(!is.na(Arr_delay) & !is.na(Dep_delay) & !is.na(Flight_Distance)) %>%\n",
    "  filter(year != 2008) %>%\n",
    "  filter(Dep_delay > 15 & Dep_delay < 240) %>%\n",
    "  filter(Arr_delay > -60 & Arr_delay < 360) %>%\n",
    "  left_join(carrier_tbl, by = c(\"UniqueCarrier\" = \"Code\")) %>%\n",
    "  mutate(Gain = Dep_delay - Arr_delay) %>%\n",
    "  select(Year, Month, Arr_delay, Dep_delay, Flight_Distance, UniqueCarrier, Description, Gain)\n",
    "\n",
    "model_data"
   ]
  },
  {
   "cell_type": "code",
   "execution_count": null,
   "metadata": {},
   "outputs": [],
   "source": [
    "sdf_dim(model_data)"
   ]
  },
  {
   "cell_type": "code",
   "execution_count": null,
   "metadata": {},
   "outputs": [],
   "source": [
    "# Summarize data by carrier\n",
    "model_data %>%\n",
    "  group_by(UniqueCarrier) %>%\n",
    "  summarize(min_desc = min(Description), avg_gain=mean(Gain), \n",
    "            avg_distance = mean(Flight_Distance), avg_depdelay=mean(Dep_delay)) %>%\n",
    "  select(min_desc, avg_gain, avg_distance, avg_depdelay) %>%\n",
    "  arrange(avg_gain)"
   ]
  },
  {
   "cell_type": "code",
   "execution_count": null,
   "metadata": {},
   "outputs": [],
   "source": [
    "# Partition the data into training and validation sets\n",
    "model_partition <- model_data %>% \n",
    "  sdf_partition(train = 0.7, valid = 0.3, seed = 5555)\n",
    "\n",
    "model_partition"
   ]
  },
  {
   "cell_type": "code",
   "execution_count": null,
   "metadata": {},
   "outputs": [],
   "source": [
    "# Fit a linear model\n",
    "ml1 <- model_partition$train %>%\n",
    "  ml_linear_regression(Gain ~ Flight_Distance + Dep_delay + UniqueCarrier)"
   ]
  },
  {
   "cell_type": "code",
   "execution_count": null,
   "metadata": {
    "scrolled": true
   },
   "outputs": [],
   "source": [
    "# Summarize the linear model\n",
    "summary(ml1)"
   ]
  },
  {
   "cell_type": "code",
   "execution_count": null,
   "metadata": {
    "collapsed": true
   },
   "outputs": [],
   "source": [
    "Assess model performance"
   ]
  },
  {
   "cell_type": "code",
   "execution_count": null,
   "metadata": {},
   "outputs": [],
   "source": [
    "# Filter records and create target variable 'gain'\n",
    "data_2008 <- airline_tbl %>%\n",
    "  mutate(Arr_delay = as.numeric(ArrDelay)) %>%\n",
    "  mutate(Dep_delay = as.numeric(DepDelay)) %>%\n",
    "  mutate(Flight_Distance = as.numeric(Distance)) %>%\n",
    "  filter(!is.na(Arr_delay) & !is.na(Dep_delay) & !is.na(Flight_Distance)) %>%\n",
    "  filter(year == 2008) %>%\n",
    "  filter(Dep_delay > 15 & Dep_delay < 240) %>%\n",
    "  filter(Arr_delay > -60 & Arr_delay < 360) %>%\n",
    "  left_join(carrier_tbl, by = c(\"UniqueCarrier\" = \"Code\")) %>%\n",
    "  mutate(Gain = Dep_delay - Arr_delay) %>%\n",
    "  select(Year, Month, Arr_delay, Dep_delay, Flight_Distance, UniqueCarrier, Description, Gain)\n",
    "\n",
    "data_2008\n",
    "sdf_dim(data_2008)"
   ]
  },
  {
   "cell_type": "code",
   "execution_count": null,
   "metadata": {
    "collapsed": true
   },
   "outputs": [],
   "source": [
    "# Summarize data by carrier\n",
    "carrier <- sdf_predict(ml1, data_2008) %>%\n",
    "  group_by(description) %>%\n",
    "  summarize(gain = mean(Gain), prediction = mean(prediction), freq = n()) %>%\n",
    "  filter(freq > 10000) %>%\n",
    "  collect"
   ]
  },
  {
   "cell_type": "code",
   "execution_count": null,
   "metadata": {},
   "outputs": [],
   "source": [
    "# Plot actual gains and predicted gains by airline carrier\n",
    "ggplot(carrier, aes(gain, prediction)) + \n",
    "  geom_point(alpha = 0.75, color = 'red', shape = 3) +\n",
    "  geom_abline(intercept = 0, slope = 1, alpha = 0.15, color = 'blue') +\n",
    "  geom_text(aes(label = substr(description, 1, 20)), size = 3, alpha = 0.75, vjust = -1) +\n",
    "  labs(title='Average Gains Forecast', x = 'Actual', y = 'Predicted')"
   ]
  },
  {
   "cell_type": "markdown",
   "metadata": {},
   "source": [
    "**Challenge: **\n",
    "\n",
    "In his note, Nathan Stephens makes a conclusion that the best predictor of time gained is not carrier but flight distance. Test this conclusion by filtering the original data to keep only the flights whose distances are in the top 50%. You can try using a different regression model, such as logistic_regression or glm"
   ]
  },
  {
   "cell_type": "code",
   "execution_count": null,
   "metadata": {
    "collapsed": true
   },
   "outputs": [],
   "source": []
  },
  {
   "cell_type": "code",
   "execution_count": null,
   "metadata": {
    "collapsed": true
   },
   "outputs": [],
   "source": [
    "spark_disconnect(sc)"
   ]
  }
 ],
 "metadata": {
  "kernelspec": {
   "display_name": "R 3.4.2",
   "language": "R",
   "name": "ir342"
  },
  "language_info": {
   "codemirror_mode": "r",
   "file_extension": ".r",
   "mimetype": "text/x-r-source",
   "name": "R",
   "pygments_lexer": "r",
   "version": "3.4.2"
  }
 },
 "nbformat": 4,
 "nbformat_minor": 2
}
