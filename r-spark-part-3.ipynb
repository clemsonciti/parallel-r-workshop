{
 "cells": [
  {
   "cell_type": "markdown",
   "metadata": {},
   "source": [
    "## Where am I?"
   ]
  },
  {
   "cell_type": "code",
   "execution_count": null,
   "metadata": {
    "collapsed": true
   },
   "outputs": [],
   "source": [
    "getwd()"
   ]
  },
  {
   "cell_type": "markdown",
   "metadata": {},
   "source": [
    "## Clear global environment"
   ]
  },
  {
   "cell_type": "code",
   "execution_count": null,
   "metadata": {
    "collapsed": true
   },
   "outputs": [],
   "source": [
    "rm(list = ls())"
   ]
  },
  {
   "cell_type": "markdown",
   "metadata": {},
   "source": [
    "## Setup *sparklyr*"
   ]
  },
  {
   "cell_type": "code",
   "execution_count": null,
   "metadata": {
    "collapsed": true
   },
   "outputs": [],
   "source": [
    "setupLibrary <- function(libraryName){\n",
    "  if (!require(libraryName, character.only = TRUE)){\n",
    "    install.packages(libraryName, dep = TRUE)\n",
    "    if (!require(libraryName, character.only = TRUE)){\n",
    "      print('Package not found')\n",
    "    }\n",
    "  } else {\n",
    "    print('Package is loaded')\n",
    "  }\n",
    "}\n",
    "\n",
    "setupLibrary('sparklyr')"
   ]
  },
  {
   "cell_type": "code",
   "execution_count": null,
   "metadata": {
    "collapsed": true
   },
   "outputs": [],
   "source": [
    "sc <- spark_connect(master = 'yarn', \n",
    "                    config = list('spark.driver.memory'='8G',\n",
    "                                  'spark.executor.instances'=4,\n",
    "                                  'spark.executor.cores'=8,\n",
    "                                  'spark.executor.memory'='8G')\n",
    "                    )"
   ]
  },
  {
   "cell_type": "markdown",
   "metadata": {},
   "source": [
    "## Airline Traffic Delay\n",
    "\n"
   ]
  },
  {
   "cell_type": "code",
   "execution_count": null,
   "metadata": {
    "collapsed": true
   },
   "outputs": [],
   "source": [
    "airline_tlb <- spark_read_csv(sc, name = 'airline_data',\n",
    "                              path = '/repository/airlines/data/',\n",
    "                              delimiter = ',')"
   ]
  },
  {
   "cell_type": "code",
   "execution_count": null,
   "metadata": {
    "collapsed": true
   },
   "outputs": [],
   "source": [
    "sdf_dim(airline_tlb)"
   ]
  },
  {
   "cell_type": "code",
   "execution_count": null,
   "metadata": {
    "collapsed": true
   },
   "outputs": [],
   "source": [
    "object.size(airline_tlb)"
   ]
  },
  {
   "cell_type": "code",
   "execution_count": null,
   "metadata": {
    "collapsed": true
   },
   "outputs": [],
   "source": [
    "airline_tlb"
   ]
  },
  {
   "cell_type": "markdown",
   "metadata": {},
   "source": [
    "**Column Descriptions:**\n",
    "\n",
    "1. Year:\t1987-2008\n",
    "2.\tMonth:\t1-12\n",
    "3.\tDayofMonth:\t1-31\n",
    "4.\tDayOfWeek:\t1 (Monday) - 7 (Sunday)\n",
    "5.\tDepTime:\tactual departure time (local, hhmm)\n",
    "6.\tCRSDepTime:\tscheduled departure time (local, hhmm)\n",
    "7.\tArrTime:\tactual arrival time (local, hhmm)\n",
    "8.\tCRSArrTime:\tscheduled arrival time (local, hhmm)\n",
    "9.\tUniqueCarrier:\tunique carrier code\n",
    "10.\tFlightNum:\tflight number\n",
    "11.\tTailNum:\tplane tail number\n",
    "12.\tActualElapsedTime:\tin minutes\n",
    "13.\tCRSElapsedTime:\tin minutes\n",
    "14.\tAirTime:\tin minutes\n",
    "15.\tArrDelay:\tarrival delay, in minutes\n",
    "16.\tDepDelay:\tdeparture delay, in minutes\n",
    "17.\tOrigin:\torigin IATA airport code\n",
    "18.\tDest:\tdestination IATA airport code\n",
    "19.\tDistance:\tin miles\n",
    "20.\tTaxiIn:\ttaxi in time, in minutes\n",
    "21.\tTaxiOut:\ttaxi out time in minutes\n",
    "22.\tCancelled:\twas the flight cancelled?\n",
    "23.\tCancellationCode:\treason for cancellation (A = carrier, B = weather, C = NAS, D = security)\n",
    "24.\tDiverted:\t1 = yes, 0 = no\n",
    "25.\tCarrierDelay:\tin minutes\n",
    "26.\tWeatherDelay:\tin minutes\n",
    "27.\tNASDelay:\tin minutes\n",
    "28.\tSecurityDelay:\tin minutes\n",
    "29.\tLateAircraftDelay:\tin minutes"
   ]
  },
  {
   "cell_type": "markdown",
   "metadata": {},
   "source": [
    "**Do planes with a delayed departure fly with a faster average speed to make up for the delay?**\n",
    "\n",
    "- Group data by individual categories (time of day, day of week, time of year) and calculate average delay in each category\n",
    "- How to quickly organize hierarhical groupping?\n",
    "- Are there bad data? (*Hint: Why are ArrDelay and DepDelay char but not int?*)"
   ]
  },
  {
   "cell_type": "code",
   "execution_count": null,
   "metadata": {
    "collapsed": true
   },
   "outputs": [],
   "source": [
    "setupLibrary('dplyr')"
   ]
  },
  {
   "cell_type": "markdown",
   "metadata": {},
   "source": [
    "We check for bad data first"
   ]
  },
  {
   "cell_type": "code",
   "execution_count": null,
   "metadata": {
    "collapsed": true
   },
   "outputs": [],
   "source": [
    "tmp_tlb <- airline_tlb %>% \n",
    "  distinct(DepDelay)"
   ]
  },
  {
   "cell_type": "code",
   "execution_count": null,
   "metadata": {
    "collapsed": true
   },
   "outputs": [],
   "source": [
    "sdf_dim(tmp_tlb)"
   ]
  },
  {
   "cell_type": "markdown",
   "metadata": {},
   "source": [
    "This is small enough to bring back for detailed observations"
   ]
  },
  {
   "cell_type": "code",
   "execution_count": null,
   "metadata": {
    "collapsed": true
   },
   "outputs": [],
   "source": [
    "unique_depdelay <- tmp_tlb %>% collect()"
   ]
  },
  {
   "cell_type": "code",
   "execution_count": null,
   "metadata": {
    "collapsed": true,
    "scrolled": true
   },
   "outputs": [],
   "source": [
    "x <- as.numeric(unique_depdelay[[1]])\n",
    "subset(x, is.na(x))"
   ]
  },
  {
   "cell_type": "markdown",
   "metadata": {},
   "source": [
    "It seems that there is no non-numeric when we attempt to convert `unique_depdelay`"
   ]
  },
  {
   "cell_type": "markdown",
   "metadata": {},
   "source": [
    "**Challenge: Check whether bad data exists for `arrdelay`**"
   ]
  },
  {
   "cell_type": "code",
   "execution_count": null,
   "metadata": {
    "collapsed": true
   },
   "outputs": [],
   "source": []
  },
  {
   "cell_type": "code",
   "execution_count": null,
   "metadata": {
    "collapsed": true
   },
   "outputs": [],
   "source": []
  },
  {
   "cell_type": "markdown",
   "metadata": {},
   "source": []
  },
  {
   "cell_type": "markdown",
   "metadata": {},
   "source": [
    "**Average delay during different day of week**"
   ]
  },
  {
   "cell_type": "code",
   "execution_count": null,
   "metadata": {
    "collapsed": true
   },
   "outputs": [],
   "source": [
    "delay_timeofday <- airline_tlb %>% \n",
    "  mutate(numeric_depdelay = as.numeric(DepDelay)) %>%\n",
    "  mutate(numeric_arrdelay = as.numeric(ArrDelay)) %>%\n",
    "  group_by(DayOfWeek) %>%\n",
    "  summarize(avg_depdelay = mean(numeric_depdelay),\n",
    "           avg_arrdelay = mean(numeric_arrdelay)) %>%\n",
    "  collect            "
   ]
  },
  {
   "cell_type": "code",
   "execution_count": null,
   "metadata": {
    "collapsed": true
   },
   "outputs": [],
   "source": [
    "delay_timeofday"
   ]
  },
  {
   "cell_type": "markdown",
   "metadata": {
    "collapsed": true
   },
   "source": [
    "**Challenge: Check average delay during month of year**"
   ]
  },
  {
   "cell_type": "code",
   "execution_count": null,
   "metadata": {
    "collapsed": true
   },
   "outputs": [],
   "source": []
  },
  {
   "cell_type": "code",
   "execution_count": null,
   "metadata": {
    "collapsed": true
   },
   "outputs": [],
   "source": []
  },
  {
   "cell_type": "markdown",
   "metadata": {
    "collapsed": true,
    "scrolled": true
   },
   "source": [
    "**Do older planes suffer more delays?**"
   ]
  },
  {
   "cell_type": "code",
   "execution_count": null,
   "metadata": {
    "collapsed": true
   },
   "outputs": [],
   "source": [
    "planes_tlb <- spark_read_csv(sc, name = 'plane_data',\n",
    "                              path = '/repository/airlines/metadata/plane-data.csv',\n",
    "                              delimiter = ',')"
   ]
  },
  {
   "cell_type": "code",
   "execution_count": null,
   "metadata": {
    "collapsed": true
   },
   "outputs": [],
   "source": [
    "planes_tlb"
   ]
  },
  {
   "cell_type": "code",
   "execution_count": null,
   "metadata": {
    "collapsed": true
   },
   "outputs": [],
   "source": [
    "sdf_dim(planes_tlb)"
   ]
  },
  {
   "cell_type": "code",
   "execution_count": null,
   "metadata": {
    "collapsed": true
   },
   "outputs": [],
   "source": [
    "clean_planes_tlb <- planes_tlb %>%\n",
    "  filter(!is.na(year))\n",
    "sdf_dim(clean_planes_tlb)"
   ]
  },
  {
   "cell_type": "code",
   "execution_count": null,
   "metadata": {
    "collapsed": true
   },
   "outputs": [],
   "source": [
    "clean_planes_tlb"
   ]
  },
  {
   "cell_type": "markdown",
   "metadata": {},
   "source": [
    "We need to perform the merge early"
   ]
  },
  {
   "cell_type": "code",
   "execution_count": null,
   "metadata": {
    "collapsed": true
   },
   "outputs": [],
   "source": [
    "planes_year <- airline_tlb %>%\n",
    "  mutate(numeric_depdelay = as.numeric(DepDelay)) %>%\n",
    "  mutate(numeric_arrdelay = as.numeric(ArrDelay)) %>%\n",
    "  select(TailNum, numeric_depdelay, numeric_arrdelay) %>%\n",
    "  inner_join(clean_planes_tlb, by = c('TailNum' = 'tailnum')) %>%\n",
    "  select(year, numeric_depdelay, numeric_arrdelay)"
   ]
  },
  {
   "cell_type": "code",
   "execution_count": null,
   "metadata": {
    "collapsed": true
   },
   "outputs": [],
   "source": [
    "sdf_dim(planes_year)"
   ]
  },
  {
   "cell_type": "code",
   "execution_count": null,
   "metadata": {
    "collapsed": true
   },
   "outputs": [],
   "source": [
    "planes_year"
   ]
  },
  {
   "cell_type": "code",
   "execution_count": null,
   "metadata": {
    "collapsed": true
   },
   "outputs": [],
   "source": [
    "avg_delay_planes_year <- planes_year %>%\n",
    "  group_by(year) %>%\n",
    "  summarize(avg_depdelay = mean(numeric_depdelay),\n",
    "           avg_arrdelay = mean(numeric_arrdelay)) %>%\n",
    "  filter(year != 'None') %>%\n",
    "  collect"
   ]
  },
  {
   "cell_type": "code",
   "execution_count": null,
   "metadata": {
    "collapsed": true,
    "scrolled": true
   },
   "outputs": [],
   "source": [
    "summary(avg_delay_planes_year)"
   ]
  },
  {
   "cell_type": "code",
   "execution_count": null,
   "metadata": {
    "collapsed": true
   },
   "outputs": [],
   "source": [
    "setupLibrary('ggplot2')  \n",
    "setupLibrary('reshape2')"
   ]
  },
  {
   "cell_type": "code",
   "execution_count": null,
   "metadata": {
    "collapsed": true
   },
   "outputs": [],
   "source": [
    "avg_delay_planes_year <- melt(avg_delay_planes_year, id.vars=\"year\", variable.name = 'delay_type', value.name = 'delay_time')\n",
    "head(avg_delay_planes_year)"
   ]
  },
  {
   "cell_type": "code",
   "execution_count": null,
   "metadata": {
    "collapsed": true
   },
   "outputs": [],
   "source": [
    "ggplot(data = avg_delay_planes_year, \n",
    "       aes(x = year, y = delay_time, group = delay_type, colour = delay_type)) +\n",
    "    geom_line() + theme_bw() +\n",
    "    theme(axis.text.x = element_text(colour=\"grey20\", size=8, angle=90, hjust=.5, vjust=.5),\n",
    "                        axis.text.y = element_text(colour=\"grey20\", size=12),\n",
    "          text=element_text(size=16, family=\"Arial\"))"
   ]
  },
  {
   "cell_type": "code",
   "execution_count": null,
   "metadata": {
    "collapsed": true
   },
   "outputs": [],
   "source": [
    "spark_disconnect(sc)"
   ]
  }
 ],
 "metadata": {
  "kernelspec": {
   "display_name": "R 3.4.2",
   "language": "R",
   "name": "ir342"
  },
  "language_info": {
   "codemirror_mode": "r",
   "file_extension": ".r",
   "mimetype": "text/x-r-source",
   "name": "R",
   "pygments_lexer": "r",
   "version": "3.4.2"
  }
 },
 "nbformat": 4,
 "nbformat_minor": 2
}
