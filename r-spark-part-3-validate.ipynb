{
 "cells": [
  {
   "cell_type": "markdown",
   "metadata": {},
   "source": [
    "#### In this notebook, we validate the R/Spark operations by comparing them against vanilla R operations on a smaller subset of the data"
   ]
  },
  {
   "cell_type": "code",
   "execution_count": 8,
   "metadata": {},
   "outputs": [
    {
     "data": {
      "text/html": [
       "'/home/lngo/git/workshop-r-spark-big-data'"
      ],
      "text/latex": [
       "'/home/lngo/git/workshop-r-spark-big-data'"
      ],
      "text/markdown": [
       "'/home/lngo/git/workshop-r-spark-big-data'"
      ],
      "text/plain": [
       "[1] \"/home/lngo/git/workshop-r-spark-big-data\""
      ]
     },
     "metadata": {},
     "output_type": "display_data"
    },
    {
     "name": "stdout",
     "output_type": "stream",
     "text": [
      "[1] \"Package is loaded\"\n",
      "[1] \"Package is loaded\"\n",
      "[1] \"Package is loaded\"\n"
     ]
    },
    {
     "name": "stderr",
     "output_type": "stream",
     "text": [
      "* No rows dropped by 'na.omit' call\n"
     ]
    },
    {
     "name": "stdout",
     "output_type": "stream",
     "text": [
      "Call: ml_linear_regression(., Dep_delay ~ Avg_speed, max_iter = 100)\n",
      "\n",
      "Deviance Residuals: (approximate):\n",
      "   Min     1Q Median     3Q    Max \n",
      "-42.88 -28.86 -14.62  14.49 188.30 \n",
      "\n",
      "Coefficients:\n",
      "             Estimate Std. Error t value  Pr(>|t|)    \n",
      "(Intercept) 48.262704   0.224112 215.351 < 2.2e-16 ***\n",
      "Avg_speed    0.687947   0.032449  21.201 < 2.2e-16 ***\n",
      "---\n",
      "Signif. codes:  0 ‘***’ 0.001 ‘**’ 0.01 ‘*’ 0.05 ‘.’ 0.1 ‘ ’ 1\n",
      "\n",
      "R-Squared: 0.0004256\n",
      "Root Mean Squared Error: 40.64\n"
     ]
    },
    {
     "name": "stderr",
     "output_type": "stream",
     "text": [
      "* No rows dropped by 'na.omit' call\n"
     ]
    },
    {
     "name": "stdout",
     "output_type": "stream",
     "text": [
      "Call: ml_linear_regression(., Gain ~ Flight_Distance + Dep_delay + UniqueCarrier)\n",
      "\n",
      "Deviance Residuals: (approximate):\n",
      "     Min       1Q   Median       3Q      Max \n",
      "-304.394   -5.291    2.790    9.585   73.520 \n",
      "\n",
      "Coefficients:\n",
      "                    Estimate  Std. Error  t value  Pr(>|t|)    \n",
      "(Intercept)      -2.7315e+00  6.5526e-02 -41.6857 < 2.2e-16 ***\n",
      "Flight_Distance   2.5345e-03  3.2594e-05  77.7584 < 2.2e-16 ***\n",
      "Dep_delay        -1.2193e-02  4.3357e-04 -28.1222 < 2.2e-16 ***\n",
      "UniqueCarrier_AQ  1.9953e+00  7.1489e-01   2.7910  0.005254 ** \n",
      "UniqueCarrier_AS  2.2168e+00  1.1133e-01  19.9120 < 2.2e-16 ***\n",
      "UniqueCarrier_CO  1.1380e+00  9.1918e-02  12.3801 < 2.2e-16 ***\n",
      "UniqueCarrier_DL  7.7404e-01  7.1103e-02  10.8863 < 2.2e-16 ***\n",
      "UniqueCarrier_HP  1.6162e+00  9.4862e-02  17.0371 < 2.2e-16 ***\n",
      "UniqueCarrier_NW  2.6628e+00  8.2218e-02  32.3866 < 2.2e-16 ***\n",
      "UniqueCarrier_TW  7.1625e-01  9.9641e-02   7.1883 6.566e-13 ***\n",
      "UniqueCarrier_UA -9.7159e-01  6.5288e-02 -14.8816 < 2.2e-16 ***\n",
      "UniqueCarrier_US -6.4635e-01  7.2196e-02  -8.9527 < 2.2e-16 ***\n",
      "UniqueCarrier_WN  3.3061e+00  6.6941e-02  49.3887 < 2.2e-16 ***\n",
      "---\n",
      "Signif. codes:  0 ‘***’ 0.001 ‘**’ 0.01 ‘*’ 0.05 ‘.’ 0.1 ‘ ’ 1\n",
      "\n",
      "R-Squared: 0.01243\n",
      "Root Mean Squared Error: 17.97\n"
     ]
    }
   ],
   "source": [
    "getwd()\n",
    "rm(list = ls())\n",
    "\n",
    "setupLibrary <- function(libraryName){\n",
    "  if (!require(libraryName, character.only = TRUE)){\n",
    "    install.packages(libraryName, dep = TRUE)\n",
    "    if (!require(libraryName, character.only = TRUE)){\n",
    "      print('Package not found')\n",
    "    }\n",
    "  } else {\n",
    "    print('Package is loaded')\n",
    "  }\n",
    "}\n",
    "\n",
    "setupLibrary('sparklyr')\n",
    "setupLibrary('dplyr')\n",
    "setupLibrary('ggplot2')\n",
    "\n",
    "sc <- spark_connect(master = 'yarn', \n",
    "                    config = list('spark.driver.memory'='8G',\n",
    "                                  'spark.executor.instances'=4,\n",
    "                                  'spark.executor.cores'=8,\n",
    "                                  'spark.executor.memory'='8G')\n",
    "                    )\n",
    "\n",
    "airline_tbl <- spark_read_csv(sc, name = 'airline_data',\n",
    "                              path = '/repository/airlines/data/2000.csv',\n",
    "                              delimiter = ',')\n",
    "\n",
    "carrier_tbl <- spark_read_csv(sc, name = 'carrier_data',\n",
    "                               path = '/repository/airlines/metadata/carriers.csv',\n",
    "                               delimiter = ',')\n",
    "\n",
    "# Filter records and create target variable 'gain'\n",
    "speed_data <- airline_tbl %>%\n",
    "  mutate(Dep_delay = as.numeric(DepDelay)) %>%\n",
    "  mutate(Dep_delay = ifelse(Dep_delay < 0, 0, Dep_delay)) %>%\n",
    "  mutate(Flight_Distance = as.numeric(Distance)) %>%\n",
    "  mutate(Air_time = as.numeric(AirTime)) %>%\n",
    "  filter(!is.na(Dep_delay) & !is.na(Flight_Distance) & !is.na(Air_time)) %>%\n",
    "  filter(Dep_delay > 15 & Dep_delay < 240) %>%\n",
    "  mutate(Avg_speed = Flight_Distance / Air_time) %>%\n",
    "  select(Dep_delay, Avg_speed)\n",
    "\n",
    "speed_model <- speed_data %>%\n",
    "  ml_linear_regression(Dep_delay ~ Avg_speed, max_iter = 100)\n",
    "\n",
    "summary(speed_model)\n",
    "\n",
    "# Filter records and create target variable 'gain'\n",
    "model_data <- airline_tbl %>%\n",
    "  mutate(Arr_delay = as.numeric(ArrDelay)) %>%\n",
    "  mutate(Dep_delay = as.numeric(DepDelay)) %>%\n",
    "  mutate(Flight_Distance = as.numeric(Distance)) %>%\n",
    "  filter(!is.na(Arr_delay) & !is.na(Dep_delay) & !is.na(Flight_Distance)) %>%\n",
    "  filter(year != 2008) %>%\n",
    "  filter(Dep_delay > 15 & Dep_delay < 240) %>%\n",
    "  filter(Arr_delay > -60 & Arr_delay < 360) %>%\n",
    "  left_join(carrier_tbl, by = c(\"UniqueCarrier\" = \"Code\")) %>%\n",
    "  mutate(Gain = Dep_delay - Arr_delay) %>%\n",
    "  select(Year, Month, Arr_delay, Dep_delay, Flight_Distance, UniqueCarrier, Description, Gain)\n",
    "\n",
    "# Fit a linear model\n",
    "ml1 <- model_data %>%\n",
    "  ml_linear_regression(Gain ~ Flight_Distance + Dep_delay + UniqueCarrier)\n",
    "\n",
    "# Summarize the linear model\n",
    "summary(ml1)\n",
    "\n",
    "spark_disconnect(sc)"
   ]
  },
  {
   "cell_type": "code",
   "execution_count": 11,
   "metadata": {},
   "outputs": [
    {
     "name": "stderr",
     "output_type": "stream",
     "text": [
      "Warning message:\n",
      "“running command ''hdfs' dfs -get /repository/airlines/data/2000.csv 2>&1' had status 1”"
     ]
    },
    {
     "data": {
      "text/html": [
       "'get: `2000.csv\\': File exists'"
      ],
      "text/latex": [
       "'get: `2000.csv\\textbackslash{}': File exists'"
      ],
      "text/markdown": [
       "'get: `2000.csv\\': File exists'"
      ],
      "text/plain": [
       "[1] \"get: `2000.csv': File exists\"\n",
       "attr(,\"status\")\n",
       "[1] 1\n",
       "attr(,\"errmsg\")\n",
       "[1] \"Resource temporarily unavailable\""
      ]
     },
     "metadata": {},
     "output_type": "display_data"
    },
    {
     "name": "stdout",
     "output_type": "stream",
     "text": [
      "[1] \"===================\"\n"
     ]
    },
    {
     "name": "stderr",
     "output_type": "stream",
     "text": [
      "Warning message:\n",
      "“running command ''hdfs' dfs -get /repository/airlines/metadata/carriers.csv 2>&1' had status 1”"
     ]
    },
    {
     "data": {
      "text/html": [
       "'get: `carriers.csv\\': File exists'"
      ],
      "text/latex": [
       "'get: `carriers.csv\\textbackslash{}': File exists'"
      ],
      "text/markdown": [
       "'get: `carriers.csv\\': File exists'"
      ],
      "text/plain": [
       "[1] \"get: `carriers.csv': File exists\"\n",
       "attr(,\"status\")\n",
       "[1] 1\n",
       "attr(,\"errmsg\")\n",
       "[1] \"Resource temporarily unavailable\""
      ]
     },
     "metadata": {},
     "output_type": "display_data"
    },
    {
     "data": {
      "text/plain": [
       "\n",
       "Call:\n",
       "lm(formula = Dep_delay ~ Avg_speed, data = speed_data)\n",
       "\n",
       "Residuals:\n",
       "    Min      1Q  Median      3Q     Max \n",
       "-137.72  -28.81  -14.57   14.49  188.70 \n",
       "\n",
       "Coefficients:\n",
       "            Estimate Std. Error t value Pr(>|t|)    \n",
       "(Intercept) 48.26270    0.22411   215.4   <2e-16 ***\n",
       "Avg_speed    0.68795    0.03245    21.2   <2e-16 ***\n",
       "---\n",
       "Signif. codes:  0 ‘***’ 0.001 ‘**’ 0.01 ‘*’ 0.05 ‘.’ 0.1 ‘ ’ 1\n",
       "\n",
       "Residual standard error: 40.64 on 1055701 degrees of freedom\n",
       "Multiple R-squared:  0.0004256,\tAdjusted R-squared:  0.0004246 \n",
       "F-statistic: 449.5 on 1 and 1055701 DF,  p-value: < 2.2e-16\n"
      ]
     },
     "metadata": {},
     "output_type": "display_data"
    },
    {
     "data": {
      "text/plain": [
       "\n",
       "Call:\n",
       "lm(formula = Gain ~ Flight_Distance + Dep_delay + UniqueCarrier, \n",
       "    data = model_data)\n",
       "\n",
       "Residuals:\n",
       "    Min      1Q  Median      3Q     Max \n",
       "-330.20   -5.32    2.70    9.54   82.50 \n",
       "\n",
       "Coefficients:\n",
       "                  Estimate Std. Error t value Pr(>|t|)    \n",
       "(Intercept)     -2.732e+00  6.553e-02 -41.686  < 2e-16 ***\n",
       "Flight_Distance  2.534e-03  3.259e-05  77.758  < 2e-16 ***\n",
       "Dep_delay       -1.219e-02  4.336e-04 -28.122  < 2e-16 ***\n",
       "UniqueCarrierAQ  1.995e+00  7.149e-01   2.791  0.00525 ** \n",
       "UniqueCarrierAS  2.217e+00  1.113e-01  19.912  < 2e-16 ***\n",
       "UniqueCarrierCO  1.138e+00  9.192e-02  12.380  < 2e-16 ***\n",
       "UniqueCarrierDL  7.740e-01  7.110e-02  10.886  < 2e-16 ***\n",
       "UniqueCarrierHP  1.616e+00  9.486e-02  17.037  < 2e-16 ***\n",
       "UniqueCarrierNW  2.663e+00  8.222e-02  32.387  < 2e-16 ***\n",
       "UniqueCarrierTW  7.162e-01  9.964e-02   7.188 6.56e-13 ***\n",
       "UniqueCarrierUA -9.716e-01  6.529e-02 -14.882  < 2e-16 ***\n",
       "UniqueCarrierUS -6.463e-01  7.220e-02  -8.953  < 2e-16 ***\n",
       "UniqueCarrierWN  3.306e+00  6.694e-02  49.389  < 2e-16 ***\n",
       "---\n",
       "Signif. codes:  0 ‘***’ 0.001 ‘**’ 0.01 ‘*’ 0.05 ‘.’ 0.1 ‘ ’ 1\n",
       "\n",
       "Residual standard error: 17.97 on 1055611 degrees of freedom\n",
       "Multiple R-squared:  0.01243,\tAdjusted R-squared:  0.01242 \n",
       "F-statistic:  1107 on 12 and 1055611 DF,  p-value: < 2.2e-16\n"
      ]
     },
     "metadata": {},
     "output_type": "display_data"
    }
   ],
   "source": [
    "# get data from HDFS\n",
    "system2('hdfs',args = c('dfs','-get','/repository/airlines/data/2000.csv'), stderr = TRUE, stdout = TRUE)\n",
    "print('===================')\n",
    "\n",
    "# load one data file from airline dataset\n",
    "airline_tbl <- read.csv('2000.csv', stringsAsFactors=FALSE)\n",
    "\n",
    "system2('hdfs',args = c('dfs','-get','/repository/airlines/metadata/carriers.csv'), stderr = TRUE, stdout = TRUE)\n",
    "carrier_tbl <- read.csv('carriers.csv',stringsAsFactors=FALSE)\n",
    "\n",
    "\n",
    "# Filter records and create target variable 'gain'\n",
    "speed_data <- airline_tbl %>%\n",
    "  filter(!is.na(DepDelay) & !is.na(Distance) & !is.na(AirTime)) %>%\n",
    "  mutate(Dep_delay = ifelse(DepDelay < 0, 0, DepDelay)) %>%\n",
    "  mutate(Flight_Distance = Distance) %>%\n",
    "  mutate(Air_time = AirTime) %>%\n",
    "  filter(Dep_delay > 15 & Dep_delay < 240) %>%\n",
    "  mutate(Avg_speed = Flight_Distance / Air_time) %>%\n",
    "  select(Dep_delay, Avg_speed)\n",
    "\n",
    "speed_model <- lm(Dep_delay ~ Avg_speed, data = speed_data)\n",
    "\n",
    "summary(speed_model)\n",
    "\n",
    "# Filter records and create target variable 'gain'\n",
    "model_data <- airline_tbl %>%\n",
    "  filter(!is.na(DepDelay) & !is.na(Distance) & !is.na(AirTime)) %>%\n",
    "  mutate(Arr_delay = ArrDelay) %>%\n",
    "  mutate(Dep_delay = ifelse(DepDelay < 0, 0, DepDelay)) %>%\n",
    "  mutate(Flight_Distance = Distance) %>%\n",
    "  filter(Dep_delay > 15 & Dep_delay < 240) %>%\n",
    "  filter(Arr_delay > -60 & Arr_delay < 360) %>%\n",
    "  left_join(carrier_tbl, by = c(\"UniqueCarrier\" = \"Code\")) %>%\n",
    "  mutate(Gain = Dep_delay - Arr_delay) %>%\n",
    "  select(Year, Month, Arr_delay, Dep_delay, Flight_Distance, UniqueCarrier, Description, Gain)\n",
    "\n",
    "# Fit a linear model\n",
    "ml1 <- lm(Gain ~ Flight_Distance + Dep_delay + UniqueCarrier, data = model_data)\n",
    "\n",
    "# Summarize the linear model\n",
    "summary(ml1)"
   ]
  }
 ],
 "metadata": {
  "kernelspec": {
   "display_name": "R 3.4.2",
   "language": "R",
   "name": "ir342"
  },
  "language_info": {
   "codemirror_mode": "r",
   "file_extension": ".r",
   "mimetype": "text/x-r-source",
   "name": "R",
   "pygments_lexer": "r",
   "version": "3.4.2"
  }
 },
 "nbformat": 4,
 "nbformat_minor": 2
}
